{
  "nbformat": 4,
  "nbformat_minor": 0,
  "metadata": {
    "colab": {
      "provenance": []
    },
    "kernelspec": {
      "name": "python3",
      "display_name": "Python 3"
    },
    "language_info": {
      "name": "python"
    }
  },
  "cells": [
    {
      "cell_type": "markdown",
      "source": [
        "Implement Neural Network without using any framework or libraries\n",
        "\n",
        "```\n",
        "- Softmax, Cross-Entropy-Loss, \n",
        "- Forward propagation, Backward propagation, Backward propagation with regularization\n",
        "- Gradient descent, Train/Test, Compute Accuracy and Run-through\n",
        "```"
      ],
      "metadata": {
        "id": "-fpCcVeCB173"
      }
    },
    {
      "cell_type": "code",
      "source": [
        "import numpy as np \n",
        "import matplotlib.pyplot as plt\n",
        "import argparse\n",
        "import functools"
      ],
      "metadata": {
        "id": "qgg4LRfbL3zy"
      },
      "execution_count": null,
      "outputs": []
    },
    {
      "cell_type": "code",
      "source": [
        "def softmax(x):\n",
        "  \"\"\" \n",
        "  Compute the softmax function for a batch of input values \n",
        "  x: a 2-dimensional numpy float array of shape bath_size * number_of_classes\n",
        "  first dimension is the batch size, and the second corresponds to every \n",
        "  class in the output\n",
        "  \n",
        "  Returns a 2-dimensional float array with the softmax results same shape as x \n",
        "  Avoid overflow, when large numbers are used for computation like e^10000\n",
        "  \"\"\" \n",
        "  batch_size, _ = x.shape\n",
        "  exp_x = np.exp(x + np.max(x))\n",
        "  return exp_x / exp_x.sum(axis=1).reshape((batch_size, 1))"
      ],
      "metadata": {
        "id": "Tv9GqbPXDlBI"
      },
      "execution_count": null,
      "outputs": []
    },
    {
      "cell_type": "code",
      "source": [
        "def sigmoid(x):\n",
        "  \"\"\" Compute the sigmoid function for the given input (numpy float array) \"\"\"\n",
        "  return 1 / (1 + np.exp(-x))"
      ],
      "metadata": {
        "id": "jVAte4V_NNxU"
      },
      "execution_count": null,
      "outputs": []
    },
    {
      "cell_type": "code",
      "source": [
        "def get_initial_params(input_size, num_hidden, num_output): \n",
        "  \"\"\" \n",
        "  A function to initialize model parameters \n",
        "  A dictionary mapping of parameter names to numpy arrays containing the inital\n",
        "  values for those parameters. \n",
        "    - W1 the weight matrxi for the hidden layer of size input_size x num_hidden\n",
        "    - b1 is the bias vector for the hidden layer of size num_hidden \n",
        "    - W2 the weight matrix for the output layers of size num_hidden x num_output \n",
        "    - b2 the vector for the output layer of size num_output \n",
        "    Weight matrices are initialized with random normal distribution centered \n",
        "    on 0 and with scale 1 \n",
        "  \"\"\"\n",
        "  params = {\n",
        "      'W1': np.random.standard_normal(size=(input_size, num_hidden)),\n",
        "      'b1': np.zeros((num_hidden, 1)),\n",
        "      'W2': np.random.standard_normal(size=(num_hidden, num_output)),\n",
        "      'b2': np.zeros((num_output, 1)),\n",
        "  }\n",
        "  return params\n"
      ],
      "metadata": {
        "id": "uurH_PVONWwn"
      },
      "execution_count": null,
      "outputs": []
    },
    {
      "cell_type": "code",
      "source": [
        "def avg_batch_cross_entropy_loss(y, y_hat): \n",
        "  \"\"\" Compute the average batch cross entropy loss \"\"\" \n",
        "  y_hat[ y_hat == 0 ] = 1 \n",
        "  y_log_y_hat = np.multiply(y, np.log(y_hat))\n",
        "  sum_y_log_y_hat = np.sum(y_log_y_hat, axis=1)\n",
        "  return np.mean(sum_y_log_y_hat)"
      ],
      "metadata": {
        "id": "A8QAedlMOP2x"
      },
      "execution_count": null,
      "outputs": []
    },
    {
      "cell_type": "code",
      "source": [
        "def forward_prop(data, labels, params):\n",
        "  \"\"\" \n",
        "  Implement the forward layer given the data, labels, and params\n",
        "  Input\n",
        "    data: A numpy array containing the input, same for labels \n",
        "    params: mapping parameter names to numpy arrays contains W1, b1, W2, b2 \n",
        "    W1 and b1 represent the weight and bias for the hidden layer of network\n",
        "    W2 and b2 represent the weights and bias for the output layer of network \n",
        "  Output\n",
        "    A  3-element tuple \n",
        "    1. A numpy array of the activations (after the sigmoid) of hidden layer)\n",
        "    2. A numpy array output (after the softmax of output layer)\n",
        "    3. The average loss for these data elements \n",
        "  \"\"\" \n",
        "  z_hidden = data.dot(params['W1']) + params['b1'].T\n",
        "  a_hidden = sigmoid(z_hidden)\n",
        "  z_output = a_hidden.dot(params['W2']) + params['b2'].T\n",
        "  a_output = softmax(z_output)\n",
        "  loss = - np.multiply(labels, np.log(a_output + 1e-16)).sum()\n",
        "  loss /= data.shape[0]\n",
        "  return a_hidden, a_output, loss "
      ],
      "metadata": {
        "id": "wGt0T0bgPZRC"
      },
      "execution_count": null,
      "outputs": []
    },
    {
      "cell_type": "code",
      "source": [
        "def backward_prop(data, labels, params, forward_prop_func):\n",
        "  \"\"\" \n",
        "  Implement the backward propagation gradient computation step for NN \n",
        "  forward_prop_func: a function that followes forward_prop API \n",
        "  Returns a dictionary of strings to numpy arrays where each key represents \n",
        "  the name of a weight, and the values represent the gradient of the loss \n",
        "    with respect to that weight. \n",
        "  It should have W1, W2, b1 and b2  \n",
        "  \"\"\" \n",
        "  a_hidden, a_output, loss = forward_prop_func(data, labels, params)\n",
        "  batch_size, input_size = data.shape \n",
        "  _, num_output = labels.shape \n",
        "  _, num_hidden = a_hidden.shape \n",
        "  gradients = {} \n",
        "  delta_2 = a_output - labels \n",
        "  gradients['W2'] = np.matmul(a_hidden.T, delta_2) / batch_size\n",
        "  delta_1 = np.matmul(params['W2'], delta_2.T) * (a_hidden * (1-a_hidden)).T \n",
        "  gradients['W1'] = np.matmul(data.T, delta_1.T) / batch_size  \n",
        "  gradients['b1'] = np.sum(delta_1, axis=1).reshape((num_hidden,1))/batch_size\n",
        "  gradients['b2'] = np.sum(delta_2, axis=0).reshape((num_output,1))/batch_size \n",
        "  \n",
        "  return gradients "
      ],
      "metadata": {
        "id": "Hlfy9HSqQip4"
      },
      "execution_count": null,
      "outputs": []
    },
    {
      "cell_type": "code",
      "source": [
        "def backward_prop_regularized(data, labels, params, forward_prop_func, reg):\n",
        "  \"\"\" \n",
        "  Implement the backward propagation gradient computation step for NN \n",
        "  Same as above with the regularization step \n",
        "  reg: the regularization strength \n",
        "  \"\"\" \n",
        "  a_hidden, a_output, loss = forward_prop_func(data, labels, params)\n",
        "  batch_size, input_size = data.shape \n",
        "  _, num_output = labels.shape \n",
        "  _, num_hidden = a_hidden.shape \n",
        "  gradients = {} \n",
        "\n",
        "  delta_2 = a_output - labels \n",
        "  gradients['W2'] = np.matmul(a_hidden.T, delta_2)/batch_size + 2*reg*params['W2'] \n",
        "  delta_1 = np.matmul(params['W2'], delta_2.T) * (a_hidden * (1-a_hidden)).T \n",
        "  gradients['W1'] = np.matmul(data.T, delta_1.T)/batch_size + 2*reg*params['W1']\n",
        "  gradients['b1'] = np.sum(delta_1, axis=1).reshape((num_hidden,1))/batch_size\n",
        "  gradients['b2'] = np.sum(delta_2, axis=0).reshape((num_output,1))/batch_size \n",
        "     \n",
        "  return gradients"
      ],
      "metadata": {
        "id": "mxGq0iGsSlAO"
      },
      "execution_count": null,
      "outputs": []
    },
    {
      "cell_type": "code",
      "source": [
        "def update_params(params, gradients, learning_rate):\n",
        "  params['W1'] -= learning_rate * gradients['W1']\n",
        "  params['W2'] -= learning_rate * gradients['W2']\n",
        "  params['b1'] -= learning_rate * gradients['b1']\n",
        "  params['b2'] -= learning_rate * gradients['b2']\n"
      ],
      "metadata": {
        "id": "giP6Gqbl0OYy"
      },
      "execution_count": null,
      "outputs": []
    },
    {
      "cell_type": "code",
      "source": [
        "def gradient_descent_epoch(train_data, train_labels, learning_rate, \n",
        "           batch_size, params, forward_prop_func, backward_prop_func):\n",
        "  \"\"\"\n",
        "  Perform one epoch of gradient descent on the given training data using lr \n",
        "  It updates the parameters in params dictionary\n",
        "  \"\"\"\n",
        "  n, d = train_data.shape\n",
        "  batch_count = n // batch_size\n",
        "  for b in range(batch_count):\n",
        "    batch_start, batch_end = b*batch_size, (b+1)*batch_size\n",
        "    batch_data = train_data[batch_start:batch_end]\n",
        "    batch_labels = train_labels[batch_start:batch_end]\n",
        "    gradients = backward_prop_func(\n",
        "        batch_data, batch_labels, params, forward_prop_func)\n",
        "    update_params(params, gradients, learning_rate)  \n",
        "  \n",
        "  return "
      ],
      "metadata": {
        "id": "sDnClqj6TCnS"
      },
      "execution_count": null,
      "outputs": []
    },
    {
      "cell_type": "code",
      "source": [
        "def neural_network_train(\n",
        "  train_data, train_labels, dev_data, dev_labels, \n",
        "  get_initial_params_func, forward_prop_func, backward_prop_func,\n",
        "  num_hidden=300, learning_rate=5, num_epochs=30, batch_size=1000):\n",
        "  \"\"\"\n",
        "  Train model using gradient descent for specified number of epochs.\n",
        "  Evaluates loss and accuracy on training and dev set \n",
        "  -- at the end of each epoch --.\n",
        "  train_data and train_labels: numpy arrays \n",
        "  \"\"\"\n",
        "  (nexp, dim) = train_data.shape\n",
        "  params = get_initial_params_func(dim, num_hidden, 10) \n",
        "\n",
        "  cost_train, cost_dev, accuracy_train, accuracy_dev = [], [], [], []\n",
        "\n",
        "  for epoch in range(num_epochs):\n",
        "    gradient_descent_epoch(train_data, train_labels, learning_rate, \n",
        "                    batch_size, params, forward_prop_func, backward_prop_func)\n",
        "    \n",
        "    hidden, output, cost = forward_prop_func(train_data, train_labels, params)\n",
        "    cost_train.append(cost)\n",
        "    epoch_train_accuracy = compute_accuracy(output, train_labels)\n",
        "    accuracy_train.append(epoch_train_accuracy)\n",
        "\n",
        "    hidden, output, cost = forward_prop_func(dev_data, dev_labels, params)\n",
        "    cost_dev.append(cost)\n",
        "    epoch_dev_accuracy = compute_accuracy(output, dev_labels)\n",
        "    accuracy_dev.append(epoch_dev_accuracy)\n",
        "\n",
        "    print('epoch {} of {}: training accuracy = {}; dev accuracy = {}'.format(\n",
        "        epoch+1, num_epochs, epoch_train_accuracy, epoch_dev_accuracy))\n",
        "\n",
        "  return params, cost_train, cost_dev, accuracy_train, accuracy_dev  "
      ],
      "metadata": {
        "id": "wN0K-B62T9EP"
      },
      "execution_count": null,
      "outputs": []
    },
    {
      "cell_type": "code",
      "source": [
        "def neural_network_test(data, labels, params):\n",
        "  \"\"\" Predict labels and compute accuracy for held-out test data \"\"\"\n",
        "  hidden, output, cost = forward_prop(data, labels, params)\n",
        "  accuracy = compute_accuracy(output, labels)\n",
        "  return accuracy "
      ],
      "metadata": {
        "id": "0mssesA_Wihn"
      },
      "execution_count": null,
      "outputs": []
    },
    {
      "cell_type": "code",
      "source": [
        "def compute_accuracy(output, labels):\n",
        "  accuracy = (np.argmax(output,axis=1) == np.argmax(labels,axis=1)).sum() \\\n",
        "              * 1. / labels.shape[0]\n",
        "  return accuracy "
      ],
      "metadata": {
        "id": "9X9SFNKcWp31"
      },
      "execution_count": null,
      "outputs": []
    },
    {
      "cell_type": "code",
      "source": [
        "def one_hot_labels(labels):\n",
        "  \"\"\" Convert labels from integers to one hot encoding \"\"\"\n",
        "  one_hot_labels = np.zeros((labels.size, 10))\n",
        "  one_hot_labels[np.arange(labels.size), labels.astype(int)] = 1\n",
        "  return one_hot_labels "
      ],
      "metadata": {
        "id": "Dnrg03yyWyf1"
      },
      "execution_count": null,
      "outputs": []
    },
    {
      "cell_type": "code",
      "source": [
        "def run_train_test(name, all_data, all_labels, \n",
        "                   backward_prop_func, num_epochs, plot=True):\n",
        "  \"\"\" Trains model, applies model to test data, and (optionally) plots loss \"\"\"\n",
        "  params, cost_train, cost_dev, accuracy_train, accuracy_dev = \\\n",
        "    neural_network_train(\n",
        "        all_data['train'], all_labels['train'], \n",
        "        all_data['dev'], all_labels['dev'],\n",
        "        get_initial_params, forward_prop, backward_prop_func,\n",
        "        num_hidden=300, learning_rate=5, num_epochs=num_epochs, batch_size=1000\n",
        "  )\n",
        "\n",
        "  t = np.arange(num_epochs)\n",
        "  \n",
        "  if plot:\n",
        "    fig, (ax1, ax2) = plt.subplots(2, 1)\n",
        "    ax1.plot(t, cost_train,'r', label='train')\n",
        "    ax1.plot(t, cost_dev, 'b', label='dev')\n",
        "    ax1.set_xlabel('epochs')\n",
        "    ax1.set_ylabel('loss')\n",
        "    if name == 'baseline':\n",
        "      ax1.set_title('Without Regularization')\n",
        "    else:\n",
        "      ax1.set_title('With Regularization')\n",
        "    ax1.legend()\n",
        "\n",
        "    ax2.plot(t, accuracy_train,'r', label='train')\n",
        "    ax2.plot(t, accuracy_dev, 'b', label='dev')\n",
        "    ax2.set_xlabel('epochs')\n",
        "    ax2.set_ylabel('accuracy')\n",
        "    ax2.legend()\n",
        "\n",
        "    fig.savefig('./' + name + '.pdf')\n",
        "  \n",
        "  accuracy = neural_network_test(all_data['test'], all_labels['test'], params)\n",
        "  print('For model %s, got accuracy: %f' % (name, accuracy))\n",
        "    \n",
        "  return accuracy"
      ],
      "metadata": {
        "id": "KunwPKfAW25l"
      },
      "execution_count": null,
      "outputs": []
    },
    {
      "cell_type": "code",
      "source": [
        "def read_from_file(images_file, labels_file):\n",
        "  \"\"\" load images and labels \"\"\" \n",
        "  x = np.loadtxt(images_file, delimiter=',')\n",
        "  y = np.loadtxt(labels_file, delimiter=',') \n",
        "  return x, y"
      ],
      "metadata": {
        "id": "IZ9etCEUEtiT"
      },
      "execution_count": null,
      "outputs": []
    },
    {
      "cell_type": "code",
      "source": [
        "from google.colab import files\n",
        "files.upload()"
      ],
      "metadata": {
        "colab": {
          "base_uri": "https://localhost:8080/",
          "height": 179
        },
        "id": "dqkb-R2JGWVu",
        "outputId": "f54f00be-60ea-4d4f-9355-c88dae476884"
      },
      "execution_count": null,
      "outputs": [
        {
          "output_type": "display_data",
          "data": {
            "text/plain": [
              "<IPython.core.display.HTML object>"
            ],
            "text/html": [
              "\n",
              "     <input type=\"file\" id=\"files-da59e987-c961-415c-ae8a-62f02b548c41\" name=\"files[]\" multiple disabled\n",
              "        style=\"border:none\" />\n",
              "     <output id=\"result-da59e987-c961-415c-ae8a-62f02b548c41\">\n",
              "      Upload widget is only available when the cell has been executed in the\n",
              "      current browser session. Please rerun this cell to enable.\n",
              "      </output>\n",
              "      <script>// Copyright 2017 Google LLC\n",
              "//\n",
              "// Licensed under the Apache License, Version 2.0 (the \"License\");\n",
              "// you may not use this file except in compliance with the License.\n",
              "// You may obtain a copy of the License at\n",
              "//\n",
              "//      http://www.apache.org/licenses/LICENSE-2.0\n",
              "//\n",
              "// Unless required by applicable law or agreed to in writing, software\n",
              "// distributed under the License is distributed on an \"AS IS\" BASIS,\n",
              "// WITHOUT WARRANTIES OR CONDITIONS OF ANY KIND, either express or implied.\n",
              "// See the License for the specific language governing permissions and\n",
              "// limitations under the License.\n",
              "\n",
              "/**\n",
              " * @fileoverview Helpers for google.colab Python module.\n",
              " */\n",
              "(function(scope) {\n",
              "function span(text, styleAttributes = {}) {\n",
              "  const element = document.createElement('span');\n",
              "  element.textContent = text;\n",
              "  for (const key of Object.keys(styleAttributes)) {\n",
              "    element.style[key] = styleAttributes[key];\n",
              "  }\n",
              "  return element;\n",
              "}\n",
              "\n",
              "// Max number of bytes which will be uploaded at a time.\n",
              "const MAX_PAYLOAD_SIZE = 100 * 1024;\n",
              "\n",
              "function _uploadFiles(inputId, outputId) {\n",
              "  const steps = uploadFilesStep(inputId, outputId);\n",
              "  const outputElement = document.getElementById(outputId);\n",
              "  // Cache steps on the outputElement to make it available for the next call\n",
              "  // to uploadFilesContinue from Python.\n",
              "  outputElement.steps = steps;\n",
              "\n",
              "  return _uploadFilesContinue(outputId);\n",
              "}\n",
              "\n",
              "// This is roughly an async generator (not supported in the browser yet),\n",
              "// where there are multiple asynchronous steps and the Python side is going\n",
              "// to poll for completion of each step.\n",
              "// This uses a Promise to block the python side on completion of each step,\n",
              "// then passes the result of the previous step as the input to the next step.\n",
              "function _uploadFilesContinue(outputId) {\n",
              "  const outputElement = document.getElementById(outputId);\n",
              "  const steps = outputElement.steps;\n",
              "\n",
              "  const next = steps.next(outputElement.lastPromiseValue);\n",
              "  return Promise.resolve(next.value.promise).then((value) => {\n",
              "    // Cache the last promise value to make it available to the next\n",
              "    // step of the generator.\n",
              "    outputElement.lastPromiseValue = value;\n",
              "    return next.value.response;\n",
              "  });\n",
              "}\n",
              "\n",
              "/**\n",
              " * Generator function which is called between each async step of the upload\n",
              " * process.\n",
              " * @param {string} inputId Element ID of the input file picker element.\n",
              " * @param {string} outputId Element ID of the output display.\n",
              " * @return {!Iterable<!Object>} Iterable of next steps.\n",
              " */\n",
              "function* uploadFilesStep(inputId, outputId) {\n",
              "  const inputElement = document.getElementById(inputId);\n",
              "  inputElement.disabled = false;\n",
              "\n",
              "  const outputElement = document.getElementById(outputId);\n",
              "  outputElement.innerHTML = '';\n",
              "\n",
              "  const pickedPromise = new Promise((resolve) => {\n",
              "    inputElement.addEventListener('change', (e) => {\n",
              "      resolve(e.target.files);\n",
              "    });\n",
              "  });\n",
              "\n",
              "  const cancel = document.createElement('button');\n",
              "  inputElement.parentElement.appendChild(cancel);\n",
              "  cancel.textContent = 'Cancel upload';\n",
              "  const cancelPromise = new Promise((resolve) => {\n",
              "    cancel.onclick = () => {\n",
              "      resolve(null);\n",
              "    };\n",
              "  });\n",
              "\n",
              "  // Wait for the user to pick the files.\n",
              "  const files = yield {\n",
              "    promise: Promise.race([pickedPromise, cancelPromise]),\n",
              "    response: {\n",
              "      action: 'starting',\n",
              "    }\n",
              "  };\n",
              "\n",
              "  cancel.remove();\n",
              "\n",
              "  // Disable the input element since further picks are not allowed.\n",
              "  inputElement.disabled = true;\n",
              "\n",
              "  if (!files) {\n",
              "    return {\n",
              "      response: {\n",
              "        action: 'complete',\n",
              "      }\n",
              "    };\n",
              "  }\n",
              "\n",
              "  for (const file of files) {\n",
              "    const li = document.createElement('li');\n",
              "    li.append(span(file.name, {fontWeight: 'bold'}));\n",
              "    li.append(span(\n",
              "        `(${file.type || 'n/a'}) - ${file.size} bytes, ` +\n",
              "        `last modified: ${\n",
              "            file.lastModifiedDate ? file.lastModifiedDate.toLocaleDateString() :\n",
              "                                    'n/a'} - `));\n",
              "    const percent = span('0% done');\n",
              "    li.appendChild(percent);\n",
              "\n",
              "    outputElement.appendChild(li);\n",
              "\n",
              "    const fileDataPromise = new Promise((resolve) => {\n",
              "      const reader = new FileReader();\n",
              "      reader.onload = (e) => {\n",
              "        resolve(e.target.result);\n",
              "      };\n",
              "      reader.readAsArrayBuffer(file);\n",
              "    });\n",
              "    // Wait for the data to be ready.\n",
              "    let fileData = yield {\n",
              "      promise: fileDataPromise,\n",
              "      response: {\n",
              "        action: 'continue',\n",
              "      }\n",
              "    };\n",
              "\n",
              "    // Use a chunked sending to avoid message size limits. See b/62115660.\n",
              "    let position = 0;\n",
              "    do {\n",
              "      const length = Math.min(fileData.byteLength - position, MAX_PAYLOAD_SIZE);\n",
              "      const chunk = new Uint8Array(fileData, position, length);\n",
              "      position += length;\n",
              "\n",
              "      const base64 = btoa(String.fromCharCode.apply(null, chunk));\n",
              "      yield {\n",
              "        response: {\n",
              "          action: 'append',\n",
              "          file: file.name,\n",
              "          data: base64,\n",
              "        },\n",
              "      };\n",
              "\n",
              "      let percentDone = fileData.byteLength === 0 ?\n",
              "          100 :\n",
              "          Math.round((position / fileData.byteLength) * 100);\n",
              "      percent.textContent = `${percentDone}% done`;\n",
              "\n",
              "    } while (position < fileData.byteLength);\n",
              "  }\n",
              "\n",
              "  // All done.\n",
              "  yield {\n",
              "    response: {\n",
              "      action: 'complete',\n",
              "    }\n",
              "  };\n",
              "}\n",
              "\n",
              "scope.google = scope.google || {};\n",
              "scope.google.colab = scope.google.colab || {};\n",
              "scope.google.colab._files = {\n",
              "  _uploadFiles,\n",
              "  _uploadFilesContinue,\n",
              "};\n",
              "})(self);\n",
              "</script> "
            ]
          },
          "metadata": {}
        },
        {
          "output_type": "stream",
          "name": "stdout",
          "text": [
            "Saving images_test.csv.gz to images_test.csv.gz\n",
            "Saving images_train.csv.gz to images_train.csv.gz\n",
            "Saving labels_test.csv.gz to labels_test.csv.gz\n",
            "Saving labels_train.csv.gz to labels_train.csv.gz\n"
          ]
        }
      ]
    },
    {
      "cell_type": "code",
      "source": [
        "!gzip -d images_test.csv.gz\n",
        "!gzip -d images_train.csv.gz\n",
        "!gzip -d labels_train.csv.gz\n",
        "!gzip -d labels_test.csv.gz"
      ],
      "metadata": {
        "id": "YzpW-SRlErs_"
      },
      "execution_count": null,
      "outputs": []
    },
    {
      "cell_type": "code",
      "source": [
        "ls"
      ],
      "metadata": {
        "colab": {
          "base_uri": "https://localhost:8080/"
        },
        "id": "a6X1SH21SE4I",
        "outputId": "3eaa2eca-46f3-4ee2-f82f-6f9a57f84b03"
      },
      "execution_count": null,
      "outputs": [
        {
          "output_type": "stream",
          "name": "stdout",
          "text": [
            "images_test.csv   labels_test.csv   \u001b[0m\u001b[01;34msample_data\u001b[0m/\n",
            "images_train.csv  labels_train.csv\n"
          ]
        }
      ]
    },
    {
      "cell_type": "code",
      "source": [
        "np.random.permutation(30000)"
      ],
      "metadata": {
        "colab": {
          "base_uri": "https://localhost:8080/"
        },
        "id": "SLTtRvbdEc2_",
        "outputId": "f842f92e-4f16-4881-a33c-e76e64ca52ab"
      },
      "execution_count": null,
      "outputs": [
        {
          "output_type": "execute_result",
          "data": {
            "text/plain": [
              "array([20656, 15296, 19089, ...,  7903,  9230, 13907])"
            ]
          },
          "metadata": {},
          "execution_count": 50
        }
      ]
    },
    {
      "cell_type": "code",
      "source": [
        "num_epochs = 30 \n",
        "plot = True\n",
        "np.random.seed(100)\n",
        "\n",
        "train_data, train_labels = read_from_file('images_train.csv', 'labels_train.csv')\n",
        "train_labels = one_hot_labels(train_labels)\n",
        "perm = np.random.permutation(60000)\n",
        "train_data = train_data[perm, :]\n",
        "train_labels=train_labels[perm, :]\n",
        "\n",
        "dev_data = train_data[0:10000, :]\n",
        "dev_labels = train_labels[0:10000, :]\n",
        "train_data = train_data[10000:, :]\n",
        "train_labels = train_labels[10000:, :]\n",
        "\n",
        "mean = np.mean(train_data)\n",
        "std = np.std(train_data)\n",
        "train_data = (train_data - mean) / std \n",
        "dev_data = (dev_data - mean) / std \n",
        "\n",
        "test_data, test_labels = read_from_file('images_test.csv', 'labels_test.csv')\n",
        "test_labels = one_hot_labels(test_labels)\n",
        "test_data = (test_data - mean) / std \n",
        "\n",
        "all_data = {'train': train_data, \n",
        "            'dev': dev_data, \n",
        "            'test': test_data }\n",
        "\n",
        "all_labels = {'train': train_labels, \n",
        "              'dev': dev_labels, \n",
        "              'test': test_labels}"
      ],
      "metadata": {
        "id": "d2y1jTVWW55L"
      },
      "execution_count": null,
      "outputs": []
    },
    {
      "cell_type": "code",
      "source": [
        "train_data.shape, train_labels.shape, test_data.shape, test_labels.shape"
      ],
      "metadata": {
        "colab": {
          "base_uri": "https://localhost:8080/"
        },
        "id": "k8VBY2fbW1M-",
        "outputId": "c9765525-ab83-455d-cd86-fae7b19a8452"
      },
      "execution_count": null,
      "outputs": [
        {
          "output_type": "execute_result",
          "data": {
            "text/plain": [
              "((50000, 784), (50000, 10), (10000, 784), (10000, 10))"
            ]
          },
          "metadata": {},
          "execution_count": 28
        }
      ]
    },
    {
      "cell_type": "code",
      "source": [
        "baseline_acc = run_train_test('baseline', all_data, all_labels, \n",
        "                backward_prop, num_epochs, plot)\n",
        "\n",
        "reg_acc = run_train_test('regularized', all_data, all_labels, \n",
        "            functools.partial(backward_prop_regularized, reg=0.0001),\n",
        "            num_epochs, plot)\n",
        "\n",
        "reg_acc "
      ],
      "metadata": {
        "colab": {
          "base_uri": "https://localhost:8080/",
          "height": 1000
        },
        "id": "kJlrwqVdWe4l",
        "outputId": "ba7cba55-2526-440a-a2e5-a6356a53752d"
      },
      "execution_count": null,
      "outputs": [
        {
          "output_type": "stream",
          "name": "stdout",
          "text": [
            "epoch 1 of 30: training accuracy = 0.86688; dev accuracy = 0.8526\n",
            "epoch 2 of 30: training accuracy = 0.90572; dev accuracy = 0.8804\n",
            "epoch 3 of 30: training accuracy = 0.92472; dev accuracy = 0.8931\n",
            "epoch 4 of 30: training accuracy = 0.93698; dev accuracy = 0.901\n",
            "epoch 5 of 30: training accuracy = 0.94596; dev accuracy = 0.9055\n",
            "epoch 6 of 30: training accuracy = 0.95196; dev accuracy = 0.91\n",
            "epoch 7 of 30: training accuracy = 0.9575; dev accuracy = 0.9122\n",
            "epoch 8 of 30: training accuracy = 0.96186; dev accuracy = 0.9161\n",
            "epoch 9 of 30: training accuracy = 0.96538; dev accuracy = 0.9169\n",
            "epoch 10 of 30: training accuracy = 0.96868; dev accuracy = 0.9185\n",
            "epoch 11 of 30: training accuracy = 0.9715; dev accuracy = 0.9196\n",
            "epoch 12 of 30: training accuracy = 0.974; dev accuracy = 0.919\n",
            "epoch 13 of 30: training accuracy = 0.9759; dev accuracy = 0.9206\n",
            "epoch 14 of 30: training accuracy = 0.97772; dev accuracy = 0.9216\n",
            "epoch 15 of 30: training accuracy = 0.97902; dev accuracy = 0.9216\n",
            "epoch 16 of 30: training accuracy = 0.9803; dev accuracy = 0.9226\n",
            "epoch 17 of 30: training accuracy = 0.98164; dev accuracy = 0.9233\n",
            "epoch 18 of 30: training accuracy = 0.98266; dev accuracy = 0.9253\n",
            "epoch 19 of 30: training accuracy = 0.98388; dev accuracy = 0.926\n",
            "epoch 20 of 30: training accuracy = 0.98472; dev accuracy = 0.9265\n",
            "epoch 21 of 30: training accuracy = 0.98584; dev accuracy = 0.9276\n",
            "epoch 22 of 30: training accuracy = 0.98676; dev accuracy = 0.9286\n",
            "epoch 23 of 30: training accuracy = 0.98764; dev accuracy = 0.9293\n",
            "epoch 24 of 30: training accuracy = 0.98818; dev accuracy = 0.9297\n",
            "epoch 25 of 30: training accuracy = 0.98894; dev accuracy = 0.9297\n",
            "epoch 26 of 30: training accuracy = 0.98944; dev accuracy = 0.9293\n",
            "epoch 27 of 30: training accuracy = 0.9899; dev accuracy = 0.9297\n",
            "epoch 28 of 30: training accuracy = 0.99056; dev accuracy = 0.9306\n",
            "epoch 29 of 30: training accuracy = 0.99094; dev accuracy = 0.931\n",
            "epoch 30 of 30: training accuracy = 0.99142; dev accuracy = 0.9314\n",
            "For model baseline, got accuracy: 0.931600\n",
            "epoch 1 of 30: training accuracy = 0.87484; dev accuracy = 0.8609\n",
            "epoch 2 of 30: training accuracy = 0.91362; dev accuracy = 0.8889\n",
            "epoch 3 of 30: training accuracy = 0.93296; dev accuracy = 0.9032\n",
            "epoch 4 of 30: training accuracy = 0.94416; dev accuracy = 0.9119\n",
            "epoch 5 of 30: training accuracy = 0.95318; dev accuracy = 0.9175\n",
            "epoch 6 of 30: training accuracy = 0.96046; dev accuracy = 0.9232\n",
            "epoch 7 of 30: training accuracy = 0.96612; dev accuracy = 0.9251\n",
            "epoch 8 of 30: training accuracy = 0.97026; dev accuracy = 0.9277\n",
            "epoch 9 of 30: training accuracy = 0.97328; dev accuracy = 0.9307\n",
            "epoch 10 of 30: training accuracy = 0.97596; dev accuracy = 0.934\n",
            "epoch 11 of 30: training accuracy = 0.97824; dev accuracy = 0.9373\n",
            "epoch 12 of 30: training accuracy = 0.97996; dev accuracy = 0.9394\n",
            "epoch 13 of 30: training accuracy = 0.9816; dev accuracy = 0.941\n",
            "epoch 14 of 30: training accuracy = 0.98306; dev accuracy = 0.9418\n",
            "epoch 15 of 30: training accuracy = 0.98438; dev accuracy = 0.9433\n",
            "epoch 16 of 30: training accuracy = 0.98562; dev accuracy = 0.9456\n",
            "epoch 17 of 30: training accuracy = 0.98706; dev accuracy = 0.9476\n",
            "epoch 18 of 30: training accuracy = 0.98818; dev accuracy = 0.9494\n",
            "epoch 19 of 30: training accuracy = 0.989; dev accuracy = 0.9512\n",
            "epoch 20 of 30: training accuracy = 0.98988; dev accuracy = 0.9531\n",
            "epoch 21 of 30: training accuracy = 0.99056; dev accuracy = 0.9551\n",
            "epoch 22 of 30: training accuracy = 0.9913; dev accuracy = 0.9564\n",
            "epoch 23 of 30: training accuracy = 0.99196; dev accuracy = 0.9579\n",
            "epoch 24 of 30: training accuracy = 0.99262; dev accuracy = 0.9594\n",
            "epoch 25 of 30: training accuracy = 0.99298; dev accuracy = 0.9603\n",
            "epoch 26 of 30: training accuracy = 0.99356; dev accuracy = 0.962\n",
            "epoch 27 of 30: training accuracy = 0.99412; dev accuracy = 0.9632\n",
            "epoch 28 of 30: training accuracy = 0.99454; dev accuracy = 0.9644\n",
            "epoch 29 of 30: training accuracy = 0.99502; dev accuracy = 0.9657\n",
            "epoch 30 of 30: training accuracy = 0.99538; dev accuracy = 0.9665\n",
            "For model regularized, got accuracy: 0.968000\n"
          ]
        },
        {
          "output_type": "execute_result",
          "data": {
            "text/plain": [
              "0.968"
            ]
          },
          "metadata": {},
          "execution_count": 42
        },
        {
          "output_type": "display_data",
          "data": {
            "text/plain": [
              "<Figure size 432x288 with 2 Axes>"
            ],
            "image/png": "[encoded data removed]"
          },
          "metadata": {
            "needs_background": "light"
          }
        },
        {
          "output_type": "display_data",
          "data": {
            "text/plain": [
              "<Figure size 432x288 with 2 Axes>"
            ],
            "image/png": "[encoded data removed]"
          },
          "metadata": {
            "needs_background": "light"
          }
        }
      ]
    }
  ]
}